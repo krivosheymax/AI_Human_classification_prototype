{
  "cells": [
    {
      "cell_type": "code",
      "execution_count": 1,
      "metadata": {
        "id": "bbu9V4E79gFO"
      },
      "outputs": [],
      "source": [
        "import numpy as np\n",
        "import pandas as pd\n",
        "import matplotlib.pyplot as plt\n",
        "import torch\n",
        "import torch.nn as nn\n",
        "import torch.nn.functional as F\n",
        "import torch.utils.data"
      ]
    },
    {
      "cell_type": "code",
      "execution_count": 2,
      "metadata": {
        "id": "OojALRScSi18"
      },
      "outputs": [],
      "source": [
        "def f(pp, ind):\n",
        "  return pp[:,ind,:]"
      ]
    },
    {
      "cell_type": "code",
      "execution_count": 3,
      "metadata": {
        "id": "lZwgMFPTqmSW"
      },
      "outputs": [],
      "source": [
        "lr = 0.0001\n",
        "bs=32\n",
        "dev = \"cuda\"\n",
        "ep=50"
      ]
    },
    {
      "cell_type": "code",
      "execution_count": 7,
      "metadata": {
        "id": "G3UgAOJfIPt5"
      },
      "outputs": [],
      "source": [
        "df1 = pd.read_csv('/content/drive/MyDrive/archive/AI_Human.csv')"
      ]
    },
    {
      "cell_type": "code",
      "execution_count": 8,
      "metadata": {
        "colab": {
          "base_uri": "https://localhost:8080/",
          "height": 206
        },
        "id": "YHNJ3FV6oNVY",
        "outputId": "67f5461b-58b8-4079-b82c-34d68c722186"
      },
      "outputs": [
        {
          "output_type": "execute_result",
          "data": {
            "text/plain": [
              "                                                text  generated\n",
              "0  Cars. Cars have been around since they became ...        0.0\n",
              "1  Transportation is a large necessity in most co...        0.0\n",
              "2  \"America's love affair with it's vehicles seem...        0.0\n",
              "3  How often do you ride in a car? Do you drive a...        0.0\n",
              "4  Cars are a wonderful thing. They are perhaps o...        0.0"
            ],
            "text/html": [
              "\n",
              "  <div id=\"df-168144be-a1eb-4c2e-94b2-68f6afc0b322\" class=\"colab-df-container\">\n",
              "    <div>\n",
              "<style scoped>\n",
              "    .dataframe tbody tr th:only-of-type {\n",
              "        vertical-align: middle;\n",
              "    }\n",
              "\n",
              "    .dataframe tbody tr th {\n",
              "        vertical-align: top;\n",
              "    }\n",
              "\n",
              "    .dataframe thead th {\n",
              "        text-align: right;\n",
              "    }\n",
              "</style>\n",
              "<table border=\"1\" class=\"dataframe\">\n",
              "  <thead>\n",
              "    <tr style=\"text-align: right;\">\n",
              "      <th></th>\n",
              "      <th>text</th>\n",
              "      <th>generated</th>\n",
              "    </tr>\n",
              "  </thead>\n",
              "  <tbody>\n",
              "    <tr>\n",
              "      <th>0</th>\n",
              "      <td>Cars. Cars have been around since they became ...</td>\n",
              "      <td>0.0</td>\n",
              "    </tr>\n",
              "    <tr>\n",
              "      <th>1</th>\n",
              "      <td>Transportation is a large necessity in most co...</td>\n",
              "      <td>0.0</td>\n",
              "    </tr>\n",
              "    <tr>\n",
              "      <th>2</th>\n",
              "      <td>\"America's love affair with it's vehicles seem...</td>\n",
              "      <td>0.0</td>\n",
              "    </tr>\n",
              "    <tr>\n",
              "      <th>3</th>\n",
              "      <td>How often do you ride in a car? Do you drive a...</td>\n",
              "      <td>0.0</td>\n",
              "    </tr>\n",
              "    <tr>\n",
              "      <th>4</th>\n",
              "      <td>Cars are a wonderful thing. They are perhaps o...</td>\n",
              "      <td>0.0</td>\n",
              "    </tr>\n",
              "  </tbody>\n",
              "</table>\n",
              "</div>\n",
              "    <div class=\"colab-df-buttons\">\n",
              "\n",
              "  <div class=\"colab-df-container\">\n",
              "    <button class=\"colab-df-convert\" onclick=\"convertToInteractive('df-168144be-a1eb-4c2e-94b2-68f6afc0b322')\"\n",
              "            title=\"Convert this dataframe to an interactive table.\"\n",
              "            style=\"display:none;\">\n",
              "\n",
              "  <svg xmlns=\"http://www.w3.org/2000/svg\" height=\"24px\" viewBox=\"0 -960 960 960\">\n",
              "    <path d=\"M120-120v-720h720v720H120Zm60-500h600v-160H180v160Zm220 220h160v-160H400v160Zm0 220h160v-160H400v160ZM180-400h160v-160H180v160Zm440 0h160v-160H620v160ZM180-180h160v-160H180v160Zm440 0h160v-160H620v160Z\"/>\n",
              "  </svg>\n",
              "    </button>\n",
              "\n",
              "  <style>\n",
              "    .colab-df-container {\n",
              "      display:flex;\n",
              "      gap: 12px;\n",
              "    }\n",
              "\n",
              "    .colab-df-convert {\n",
              "      background-color: #E8F0FE;\n",
              "      border: none;\n",
              "      border-radius: 50%;\n",
              "      cursor: pointer;\n",
              "      display: none;\n",
              "      fill: #1967D2;\n",
              "      height: 32px;\n",
              "      padding: 0 0 0 0;\n",
              "      width: 32px;\n",
              "    }\n",
              "\n",
              "    .colab-df-convert:hover {\n",
              "      background-color: #E2EBFA;\n",
              "      box-shadow: 0px 1px 2px rgba(60, 64, 67, 0.3), 0px 1px 3px 1px rgba(60, 64, 67, 0.15);\n",
              "      fill: #174EA6;\n",
              "    }\n",
              "\n",
              "    .colab-df-buttons div {\n",
              "      margin-bottom: 4px;\n",
              "    }\n",
              "\n",
              "    [theme=dark] .colab-df-convert {\n",
              "      background-color: #3B4455;\n",
              "      fill: #D2E3FC;\n",
              "    }\n",
              "\n",
              "    [theme=dark] .colab-df-convert:hover {\n",
              "      background-color: #434B5C;\n",
              "      box-shadow: 0px 1px 3px 1px rgba(0, 0, 0, 0.15);\n",
              "      filter: drop-shadow(0px 1px 2px rgba(0, 0, 0, 0.3));\n",
              "      fill: #FFFFFF;\n",
              "    }\n",
              "  </style>\n",
              "\n",
              "    <script>\n",
              "      const buttonEl =\n",
              "        document.querySelector('#df-168144be-a1eb-4c2e-94b2-68f6afc0b322 button.colab-df-convert');\n",
              "      buttonEl.style.display =\n",
              "        google.colab.kernel.accessAllowed ? 'block' : 'none';\n",
              "\n",
              "      async function convertToInteractive(key) {\n",
              "        const element = document.querySelector('#df-168144be-a1eb-4c2e-94b2-68f6afc0b322');\n",
              "        const dataTable =\n",
              "          await google.colab.kernel.invokeFunction('convertToInteractive',\n",
              "                                                    [key], {});\n",
              "        if (!dataTable) return;\n",
              "\n",
              "        const docLinkHtml = 'Like what you see? Visit the ' +\n",
              "          '<a target=\"_blank\" href=https://colab.research.google.com/notebooks/data_table.ipynb>data table notebook</a>'\n",
              "          + ' to learn more about interactive tables.';\n",
              "        element.innerHTML = '';\n",
              "        dataTable['output_type'] = 'display_data';\n",
              "        await google.colab.output.renderOutput(dataTable, element);\n",
              "        const docLink = document.createElement('div');\n",
              "        docLink.innerHTML = docLinkHtml;\n",
              "        element.appendChild(docLink);\n",
              "      }\n",
              "    </script>\n",
              "  </div>\n",
              "\n",
              "\n",
              "    <div id=\"df-a902502a-af57-444e-857d-1b88b9828774\">\n",
              "      <button class=\"colab-df-quickchart\" onclick=\"quickchart('df-a902502a-af57-444e-857d-1b88b9828774')\"\n",
              "                title=\"Suggest charts\"\n",
              "                style=\"display:none;\">\n",
              "\n",
              "<svg xmlns=\"http://www.w3.org/2000/svg\" height=\"24px\"viewBox=\"0 0 24 24\"\n",
              "     width=\"24px\">\n",
              "    <g>\n",
              "        <path d=\"M19 3H5c-1.1 0-2 .9-2 2v14c0 1.1.9 2 2 2h14c1.1 0 2-.9 2-2V5c0-1.1-.9-2-2-2zM9 17H7v-7h2v7zm4 0h-2V7h2v10zm4 0h-2v-4h2v4z\"/>\n",
              "    </g>\n",
              "</svg>\n",
              "      </button>\n",
              "\n",
              "<style>\n",
              "  .colab-df-quickchart {\n",
              "      --bg-color: #E8F0FE;\n",
              "      --fill-color: #1967D2;\n",
              "      --hover-bg-color: #E2EBFA;\n",
              "      --hover-fill-color: #174EA6;\n",
              "      --disabled-fill-color: #AAA;\n",
              "      --disabled-bg-color: #DDD;\n",
              "  }\n",
              "\n",
              "  [theme=dark] .colab-df-quickchart {\n",
              "      --bg-color: #3B4455;\n",
              "      --fill-color: #D2E3FC;\n",
              "      --hover-bg-color: #434B5C;\n",
              "      --hover-fill-color: #FFFFFF;\n",
              "      --disabled-bg-color: #3B4455;\n",
              "      --disabled-fill-color: #666;\n",
              "  }\n",
              "\n",
              "  .colab-df-quickchart {\n",
              "    background-color: var(--bg-color);\n",
              "    border: none;\n",
              "    border-radius: 50%;\n",
              "    cursor: pointer;\n",
              "    display: none;\n",
              "    fill: var(--fill-color);\n",
              "    height: 32px;\n",
              "    padding: 0;\n",
              "    width: 32px;\n",
              "  }\n",
              "\n",
              "  .colab-df-quickchart:hover {\n",
              "    background-color: var(--hover-bg-color);\n",
              "    box-shadow: 0 1px 2px rgba(60, 64, 67, 0.3), 0 1px 3px 1px rgba(60, 64, 67, 0.15);\n",
              "    fill: var(--button-hover-fill-color);\n",
              "  }\n",
              "\n",
              "  .colab-df-quickchart-complete:disabled,\n",
              "  .colab-df-quickchart-complete:disabled:hover {\n",
              "    background-color: var(--disabled-bg-color);\n",
              "    fill: var(--disabled-fill-color);\n",
              "    box-shadow: none;\n",
              "  }\n",
              "\n",
              "  .colab-df-spinner {\n",
              "    border: 2px solid var(--fill-color);\n",
              "    border-color: transparent;\n",
              "    border-bottom-color: var(--fill-color);\n",
              "    animation:\n",
              "      spin 1s steps(1) infinite;\n",
              "  }\n",
              "\n",
              "  @keyframes spin {\n",
              "    0% {\n",
              "      border-color: transparent;\n",
              "      border-bottom-color: var(--fill-color);\n",
              "      border-left-color: var(--fill-color);\n",
              "    }\n",
              "    20% {\n",
              "      border-color: transparent;\n",
              "      border-left-color: var(--fill-color);\n",
              "      border-top-color: var(--fill-color);\n",
              "    }\n",
              "    30% {\n",
              "      border-color: transparent;\n",
              "      border-left-color: var(--fill-color);\n",
              "      border-top-color: var(--fill-color);\n",
              "      border-right-color: var(--fill-color);\n",
              "    }\n",
              "    40% {\n",
              "      border-color: transparent;\n",
              "      border-right-color: var(--fill-color);\n",
              "      border-top-color: var(--fill-color);\n",
              "    }\n",
              "    60% {\n",
              "      border-color: transparent;\n",
              "      border-right-color: var(--fill-color);\n",
              "    }\n",
              "    80% {\n",
              "      border-color: transparent;\n",
              "      border-right-color: var(--fill-color);\n",
              "      border-bottom-color: var(--fill-color);\n",
              "    }\n",
              "    90% {\n",
              "      border-color: transparent;\n",
              "      border-bottom-color: var(--fill-color);\n",
              "    }\n",
              "  }\n",
              "</style>\n",
              "\n",
              "      <script>\n",
              "        async function quickchart(key) {\n",
              "          const quickchartButtonEl =\n",
              "            document.querySelector('#' + key + ' button');\n",
              "          quickchartButtonEl.disabled = true;  // To prevent multiple clicks.\n",
              "          quickchartButtonEl.classList.add('colab-df-spinner');\n",
              "          try {\n",
              "            const charts = await google.colab.kernel.invokeFunction(\n",
              "                'suggestCharts', [key], {});\n",
              "          } catch (error) {\n",
              "            console.error('Error during call to suggestCharts:', error);\n",
              "          }\n",
              "          quickchartButtonEl.classList.remove('colab-df-spinner');\n",
              "          quickchartButtonEl.classList.add('colab-df-quickchart-complete');\n",
              "        }\n",
              "        (() => {\n",
              "          let quickchartButtonEl =\n",
              "            document.querySelector('#df-a902502a-af57-444e-857d-1b88b9828774 button');\n",
              "          quickchartButtonEl.style.display =\n",
              "            google.colab.kernel.accessAllowed ? 'block' : 'none';\n",
              "        })();\n",
              "      </script>\n",
              "    </div>\n",
              "    </div>\n",
              "  </div>\n"
            ],
            "application/vnd.google.colaboratory.intrinsic+json": {
              "type": "dataframe",
              "variable_name": "df1"
            }
          },
          "metadata": {},
          "execution_count": 8
        }
      ],
      "source": [
        "df1.head()"
      ]
    },
    {
      "cell_type": "code",
      "execution_count": 9,
      "metadata": {
        "id": "ay0AgBg8tPoR"
      },
      "outputs": [],
      "source": [
        "def shuf(u1, u2):\n",
        "  rm = np.arange(u1.shape[0])\n",
        "  np.random.shuffle(rm)\n",
        "  return (u1[rm], u2[rm])"
      ]
    },
    {
      "cell_type": "code",
      "execution_count": 10,
      "metadata": {
        "id": "k_x-UJ3OsDPN"
      },
      "outputs": [],
      "source": [
        "X, y = df1.text.to_numpy(), df1.generated.to_numpy()"
      ]
    },
    {
      "cell_type": "code",
      "execution_count": 11,
      "metadata": {
        "id": "jvXm1TM-t6Hq"
      },
      "outputs": [],
      "source": [
        "X_test, y_test = np.concat([X[y==0][3000:3050], X[y==1][3000:3050]], axis=0), np.concat([y[y==0][3000:3050], y[y==1][3000:3050]], axis=0)\n",
        "X, y = np.concat([X[y==0][:400], X[y==1][:400]], axis=0), np.concat([y[y==0][:400], y[y==1][:400]], axis=0)\n",
        "X, y = shuf(X, y)\n",
        "del df1"
      ]
    },
    {
      "cell_type": "code",
      "execution_count": 12,
      "metadata": {
        "id": "41PI-HoUpklZ"
      },
      "outputs": [],
      "source": [
        "from re import sub\n",
        "x = []\n",
        "for i in X:\n",
        "  x.append(' '.join(sub(r'[^A-Za-z0-9]', \" \", i).split()).lower())"
      ]
    },
    {
      "cell_type": "code",
      "execution_count": 13,
      "metadata": {
        "colab": {
          "base_uri": "https://localhost:8080/"
        },
        "id": "-EOzUyzoqPgp",
        "outputId": "316b1cdc-5b5f-4f87-a77f-da1acd27885e"
      },
      "outputs": [
        {
          "output_type": "stream",
          "name": "stdout",
          "text": [
            "800\n",
            "9640\n",
            "800\n"
          ]
        }
      ],
      "source": [
        "from copy import copy as cp\n",
        "n = len(x)\n",
        "print(n)\n",
        "s = set()\n",
        "for i in range(n):\n",
        "    t = x[i].split()\n",
        "    yy = []\n",
        "    for j in t:\n",
        "      s.add(j)\n",
        "      yy.append(j)\n",
        "    x[i] = cp(yy)\n",
        "print(len(s))\n",
        "print(len(x))"
      ]
    },
    {
      "cell_type": "code",
      "execution_count": 14,
      "metadata": {
        "colab": {
          "base_uri": "https://localhost:8080/"
        },
        "id": "igugSVRqwMpC",
        "outputId": "4a8668c1-364d-44f2-e3b5-f7aae711f24b"
      },
      "outputs": [
        {
          "output_type": "stream",
          "name": "stdout",
          "text": [
            "9641\n"
          ]
        }
      ],
      "source": [
        "rr = len(s)+1\n",
        "print(rr)"
      ]
    },
    {
      "cell_type": "code",
      "execution_count": 15,
      "metadata": {
        "colab": {
          "base_uri": "https://localhost:8080/"
        },
        "id": "M6OjgJcrwx3i",
        "outputId": "03f6f117-9159-4a3c-b9c8-71ec635e1439"
      },
      "outputs": [
        {
          "output_type": "stream",
          "name": "stdout",
          "text": [
            "1337\n"
          ]
        }
      ],
      "source": [
        "t = list(map(len, x))\n",
        "tt = max(t)\n",
        "print(tt)"
      ]
    },
    {
      "cell_type": "code",
      "execution_count": 16,
      "metadata": {
        "id": "5lPik4D7Vbcl"
      },
      "outputs": [],
      "source": [
        "d = {'': 0}\n",
        "ss = list(s)\n",
        "for i in range(rr-1):\n",
        "  d[ss[i]] = i+1\n",
        "del ss"
      ]
    },
    {
      "cell_type": "code",
      "execution_count": 17,
      "metadata": {
        "id": "JDUbqLsd470C"
      },
      "outputs": [],
      "source": [
        "for i in range(len(x)):\n",
        "  for j in range(len(x[i])):\n",
        "    x[i][j] = d[x[i][j]]"
      ]
    },
    {
      "cell_type": "code",
      "execution_count": 18,
      "metadata": {
        "id": "OJJWVxdl1pni"
      },
      "outputs": [],
      "source": [
        "for i in range(len(x)):\n",
        "  while len(x[i])<tt:\n",
        "    x[i].append(0)"
      ]
    },
    {
      "cell_type": "code",
      "execution_count": 19,
      "metadata": {
        "colab": {
          "base_uri": "https://localhost:8080/"
        },
        "id": "48Aa9mXo2UVy",
        "outputId": "7350a46c-873a-4d2c-a5c9-3b1d18aacbd9"
      },
      "outputs": [
        {
          "output_type": "execute_result",
          "data": {
            "text/plain": [
              "(800, 1337)"
            ]
          },
          "metadata": {},
          "execution_count": 19
        }
      ],
      "source": [
        "x_train = np.array(x)\n",
        "x_train.shape"
      ]
    },
    {
      "cell_type": "code",
      "execution_count": 20,
      "metadata": {
        "colab": {
          "base_uri": "https://localhost:8080/"
        },
        "id": "6AwbsPAks3N_",
        "outputId": "6ee9dc4e-594e-48f7-a7f5-439ff50e55c7"
      },
      "outputs": [
        {
          "output_type": "execute_result",
          "data": {
            "text/plain": [
              "(800,)"
            ]
          },
          "metadata": {},
          "execution_count": 20
        }
      ],
      "source": [
        "y_train =y\n",
        "y_train.shape"
      ]
    },
    {
      "cell_type": "code",
      "execution_count": 21,
      "metadata": {
        "id": "1Y5gl5N_2obR"
      },
      "outputs": [],
      "source": [
        "from sklearn.preprocessing import OneHotEncoder\n",
        "enc = OneHotEncoder(sparse_output=False, categories = [list(range(rr)) for _ in range(tt)])\n",
        "enc.fit(x_train)\n",
        "x_train = enc.transform(x_train).reshape(x_train.shape[0], x_train.shape[1], rr)"
      ]
    },
    {
      "cell_type": "code",
      "execution_count": 22,
      "metadata": {
        "id": "0IAyzkQrrdPk"
      },
      "outputs": [],
      "source": [
        "del X; del y;"
      ]
    },
    {
      "cell_type": "code",
      "execution_count": 23,
      "metadata": {
        "colab": {
          "base_uri": "https://localhost:8080/"
        },
        "id": "czrlNcl5rYgK",
        "outputId": "ced50eda-c3b0-455e-8d5e-19d350828ea4"
      },
      "outputs": [
        {
          "output_type": "execute_result",
          "data": {
            "text/plain": [
              "78"
            ]
          },
          "metadata": {},
          "execution_count": 23
        }
      ],
      "source": [
        "import gc\n",
        "gc.collect()"
      ]
    },
    {
      "cell_type": "markdown",
      "metadata": {
        "id": "E8Fs7ZXV5ldR"
      },
      "source": [
        "test"
      ]
    },
    {
      "cell_type": "code",
      "execution_count": 24,
      "metadata": {
        "id": "ksu95Ks_5kIz"
      },
      "outputs": [],
      "source": [
        "from re import sub\n",
        "x = []\n",
        "for i in X_test:\n",
        "  x.append(' '.join(sub(r'[^A-Za-z0-9]', \" \", i).split()).lower())"
      ]
    },
    {
      "cell_type": "code",
      "execution_count": 25,
      "metadata": {
        "colab": {
          "base_uri": "https://localhost:8080/"
        },
        "id": "hiqeHaWv5ugT",
        "outputId": "528934c8-fbf9-46e0-dc5a-ad04f8a5cc93"
      },
      "outputs": [
        {
          "output_type": "stream",
          "name": "stdout",
          "text": [
            "100\n",
            "3544\n",
            "100\n"
          ]
        }
      ],
      "source": [
        "from copy import copy as cp\n",
        "n = len(x)\n",
        "print(n)\n",
        "s = set()\n",
        "for i in range(n):\n",
        "    t = x[i].split()\n",
        "    yy = []\n",
        "    for j in t:\n",
        "      s.add(j)\n",
        "      yy.append(j)\n",
        "    x[i] = cp(yy)\n",
        "print(len(s))\n",
        "print(len(x))"
      ]
    },
    {
      "cell_type": "code",
      "execution_count": 26,
      "metadata": {
        "colab": {
          "base_uri": "https://localhost:8080/"
        },
        "id": "TzA59w3p6bT6",
        "outputId": "85d022ba-2e61-4a03-c73d-5ad1699d9ef7"
      },
      "outputs": [
        {
          "output_type": "execute_result",
          "data": {
            "text/plain": [
              "1119"
            ]
          },
          "metadata": {},
          "execution_count": 26
        }
      ],
      "source": [
        "po=0\n",
        "for i in range(len(x)):\n",
        "  for j in range(len(x[i])):\n",
        "    if x[i][j] not in d:\n",
        "      x[i][j]=0\n",
        "      po+=1\n",
        "    else:\n",
        "      x[i][j] = d[x[i][j]]\n",
        "po"
      ]
    },
    {
      "cell_type": "code",
      "execution_count": 27,
      "metadata": {
        "id": "eSC0-e_S6yUE"
      },
      "outputs": [],
      "source": [
        "for i in range(len(x)):\n",
        "  while len(x[i])<tt:\n",
        "    x[i].append(0)"
      ]
    },
    {
      "cell_type": "code",
      "execution_count": 28,
      "metadata": {
        "colab": {
          "base_uri": "https://localhost:8080/"
        },
        "id": "AGx1wG2q63i8",
        "outputId": "7435dbcd-db61-4287-fb08-304a2aa45c8b"
      },
      "outputs": [
        {
          "output_type": "execute_result",
          "data": {
            "text/plain": [
              "(100, 1337)"
            ]
          },
          "metadata": {},
          "execution_count": 28
        }
      ],
      "source": [
        "x_test = np.array(x)\n",
        "x_test.shape"
      ]
    },
    {
      "cell_type": "code",
      "execution_count": 29,
      "metadata": {
        "id": "VhMO9K1u68FS"
      },
      "outputs": [],
      "source": [
        "x_test = enc.transform(x_test).reshape(x_test.shape[0], x_test.shape[1], rr)"
      ]
    },
    {
      "cell_type": "code",
      "execution_count": 30,
      "metadata": {
        "colab": {
          "base_uri": "https://localhost:8080/"
        },
        "id": "fTQ4Q-Jg7EtS",
        "outputId": "b52cce27-8391-49c8-cfc3-8dc154237dbc"
      },
      "outputs": [
        {
          "output_type": "execute_result",
          "data": {
            "text/plain": [
              "(100, 1337, 9641)"
            ]
          },
          "metadata": {},
          "execution_count": 30
        }
      ],
      "source": [
        "x_test.shape"
      ]
    },
    {
      "cell_type": "code",
      "execution_count": 31,
      "metadata": {
        "id": "S-cuS1jQrEVp"
      },
      "outputs": [],
      "source": [
        "class RN(nn.Module):\n",
        "  def __init__(self, one_hot_size, emb_size, n_steps):\n",
        "    super(RN, self).__init__()\n",
        "    self.one_hot_size, self.emb_size, self.n_steps = one_hot_size, emb_size, n_steps\n",
        "    self.h = nn.ModuleList(); self.h.append(nn.Linear(one_hot_size, emb_size))\n",
        "    for i in range(1, n_steps+1):\n",
        "      self.h.append(nn.Linear(one_hot_size+emb_size, emb_size))\n",
        "    self.h.append(nn.Linear(emb_size, emb_size))\n",
        "    for i in range(2, n_steps+1):\n",
        "      self.h.append(nn.Linear(emb_size+emb_size, emb_size))\n",
        "    #self.fc1 = nn.Linear(emb_size*n_steps, 2000)\n",
        "    #self.fc2 = nn.Linear(2000, 500)\n",
        "    self.sm = nn.Linear(emb_size*n_steps, 1)\n",
        "  def forward(self, x):\n",
        "    n = self.n_steps\n",
        "    z = [F.tanh(self.h[0](f(x, 0)))]\n",
        "    for i in range(1, n+1):\n",
        "      z.append(F.tanh(self.h[i](torch.cat((f(x, i-1), z[i-1]), dim=1))))\n",
        "      if i>1:\n",
        "        z[-1] = z[-1]+z[-3]\n",
        "    z.append(F.tanh(self.h[n+1](z[n]))+z[n-1])\n",
        "    for i in range(2, n+1):\n",
        "      z.append(F.tanh(self.h[n+i](torch.cat((z[n-i+1], z[n+i-1]), dim=1))) + z[n-i] + z[n+i-2])\n",
        "    o_emb = z[n+1]\n",
        "    for i in range(2, n+1):\n",
        "      o_emb = torch.cat((o_emb, z[n+i]), dim=1)\n",
        "    #z.append(F.relu(self.fc1(o_emb)))\n",
        "    #z.append(F.relu(self.fc2(z[-1])))\n",
        "    z.append(self.sm(o_emb))\n",
        "    return z[-1].reshape(z[-1].shape[0])"
      ]
    },
    {
      "cell_type": "code",
      "execution_count": 32,
      "metadata": {
        "colab": {
          "base_uri": "https://localhost:8080/"
        },
        "id": "CETzHVVOnCAL",
        "outputId": "63cbb8de-adec-455e-a929-814cd697df8f"
      },
      "outputs": [
        {
          "output_type": "execute_result",
          "data": {
            "text/plain": [
              "55"
            ]
          },
          "metadata": {},
          "execution_count": 32
        }
      ],
      "source": [
        "gc.collect()\n",
        "net = RN(rr, 32,tt)\n",
        "net.to(dev)\n",
        "gc.collect()"
      ]
    },
    {
      "cell_type": "code",
      "source": [
        "net"
      ],
      "metadata": {
        "colab": {
          "base_uri": "https://localhost:8080/"
        },
        "id": "DDitzBcLC8zj",
        "outputId": "1b2547fd-16ef-483b-a961-e25bcd44fe32"
      },
      "execution_count": 33,
      "outputs": [
        {
          "output_type": "execute_result",
          "data": {
            "text/plain": [
              "RN(\n",
              "  (h): ModuleList(\n",
              "    (0): Linear(in_features=9641, out_features=32, bias=True)\n",
              "    (1-1337): 1337 x Linear(in_features=9673, out_features=32, bias=True)\n",
              "    (1338): Linear(in_features=32, out_features=32, bias=True)\n",
              "    (1339-2674): 1336 x Linear(in_features=64, out_features=32, bias=True)\n",
              "  )\n",
              "  (sm): Linear(in_features=42784, out_features=1, bias=True)\n",
              ")"
            ]
          },
          "metadata": {},
          "execution_count": 33
        }
      ]
    },
    {
      "cell_type": "code",
      "execution_count": 34,
      "metadata": {
        "id": "NKlUbMpFnE1T"
      },
      "outputs": [],
      "source": [
        "crit = nn.BCEWithLogitsLoss()\n",
        "opt = torch.optim.Adam(net.parameters(), lr=0.00001)"
      ]
    },
    {
      "cell_type": "code",
      "execution_count": 37,
      "metadata": {
        "id": "npXSpXBvubXj"
      },
      "outputs": [],
      "source": [
        "def vl():\n",
        "  net.eval()\n",
        "  with torch.no_grad():\n",
        "    cur, tot = 0, 0\n",
        "    for i in range(len(x_test)//bs+(len(x_test)%bs!=0)):\n",
        "      a = torch.from_numpy(x_test[i*bs:i*bs+bs]).float()\n",
        "      b = torch.from_numpy(y_test[i*bs:i*bs+bs]).float()\n",
        "      a = a.to(dev)\n",
        "      b = b.to(dev)\n",
        "      out = net(a)\n",
        "      #print(out)\n",
        "      tot+=b.shape[0]\n",
        "      for i in range(b.shape[0]):\n",
        "        if nn.Sigmoid()(out[i])>=0.5 and b[i]==1 or nn.Sigmoid()(out[i])<0.5 and b[i]==0:\n",
        "          cur+=1\n",
        "    print('accuracy:', cur/tot)\n",
        "def vl2():\n",
        "  net.eval()\n",
        "  with torch.no_grad():\n",
        "    cur, tot = 0, 0\n",
        "    for i in range(len(x_train)//bs+(len(x_train)%bs!=0)):\n",
        "      a = torch.from_numpy(x_train[i*bs:i*bs+bs]).float()\n",
        "      b = torch.from_numpy(y_train[i*bs:i*bs+bs]).float()\n",
        "      a = a.to(dev)\n",
        "      b = b.to(dev)\n",
        "      out = net(a)\n",
        "      #print(out)\n",
        "      tot+=b.shape[0]\n",
        "      for i in range(b.shape[0]):\n",
        "        if nn.Sigmoid()(out[i])>=0.5 and b[i]==1 or nn.Sigmoid()(out[i])<0.5 and b[i]==0:\n",
        "          cur+=1\n",
        "  print('accuracy:', cur/tot)"
      ]
    },
    {
      "cell_type": "code",
      "execution_count": 38,
      "metadata": {
        "colab": {
          "base_uri": "https://localhost:8080/"
        },
        "id": "6WpE6Artu0Nc",
        "outputId": "ea90dcfc-f8e5-43b0-e6d6-da963fb37690"
      },
      "outputs": [
        {
          "output_type": "stream",
          "name": "stdout",
          "text": [
            "accuracy: 0.55\n",
            "accuracy: 0.51\n"
          ]
        }
      ],
      "source": [
        "vl()\n",
        "vl2()"
      ]
    },
    {
      "cell_type": "code",
      "execution_count": 40,
      "metadata": {
        "colab": {
          "base_uri": "https://localhost:8080/",
          "height": 1000
        },
        "id": "17C2ywDcx6oa",
        "outputId": "b3bb420d-2f07-448a-9c2f-3f2bdedac5ab"
      },
      "outputs": [
        {
          "output_type": "stream",
          "name": "stderr",
          "text": [
            "<ipython-input-40-2f2fa3f9b7cf>:17: FutureWarning: `torch.nn.utils.clip_grad_norm` is now deprecated in favor of `torch.nn.utils.clip_grad_norm_`.\n",
            "  nn.utils.clip_grad_norm(net.parameters(), 1)\n"
          ]
        },
        {
          "output_type": "stream",
          "name": "stdout",
          "text": [
            "Epoch 1/50 Step 3/25 LossL10.2390\n",
            "accuracy: 0.69\n",
            "accuracy: 0.53125\n",
            "Epoch 1/50 Step 6/25 LossL11.6338\n",
            "accuracy: 0.61\n",
            "accuracy: 0.53875\n",
            "Epoch 1/50 Step 9/25 LossL10.3884\n",
            "accuracy: 0.68\n",
            "accuracy: 0.5725\n",
            "Epoch 1/50 Step 12/25 LossL7.1159\n",
            "accuracy: 0.7\n",
            "accuracy: 0.59\n",
            "Epoch 1/50 Step 15/25 LossL7.9065\n",
            "accuracy: 0.71\n",
            "accuracy: 0.6225\n",
            "Epoch 1/50 Step 18/25 LossL7.1481\n",
            "accuracy: 0.67\n",
            "accuracy: 0.635\n",
            "Epoch 1/50 Step 21/25 LossL6.0801\n",
            "accuracy: 0.74\n",
            "accuracy: 0.6525\n",
            "Epoch 1/50 Step 24/25 LossL7.1141\n",
            "accuracy: 0.73\n",
            "accuracy: 0.6825\n",
            "accuracy: 0.75\n",
            "Epoch 2/50 Step 3/25 LossL1.6822\n",
            "accuracy: 0.73\n",
            "accuracy: 0.7175\n",
            "Epoch 2/50 Step 6/25 LossL2.9739\n",
            "accuracy: 0.72\n",
            "accuracy: 0.74125\n",
            "Epoch 2/50 Step 9/25 LossL2.5691\n",
            "accuracy: 0.64\n",
            "accuracy: 0.72875\n",
            "Epoch 2/50 Step 12/25 LossL1.6657\n",
            "accuracy: 0.67\n",
            "accuracy: 0.70875\n",
            "Epoch 2/50 Step 15/25 LossL1.8836\n",
            "accuracy: 0.65\n",
            "accuracy: 0.775\n",
            "Epoch 2/50 Step 18/25 LossL3.3253\n",
            "accuracy: 0.66\n",
            "accuracy: 0.7525\n",
            "Epoch 2/50 Step 21/25 LossL1.7532\n",
            "accuracy: 0.74\n",
            "accuracy: 0.73\n",
            "Epoch 2/50 Step 24/25 LossL2.1806\n",
            "accuracy: 0.66\n",
            "accuracy: 0.8125\n",
            "accuracy: 0.71\n",
            "Epoch 3/50 Step 3/25 LossL0.4617\n",
            "accuracy: 0.77\n",
            "accuracy: 0.82125\n",
            "Epoch 3/50 Step 6/25 LossL0.4197\n",
            "accuracy: 0.74\n",
            "accuracy: 0.84875\n",
            "Epoch 3/50 Step 9/25 LossL0.7170\n",
            "accuracy: 0.68\n",
            "accuracy: 0.84125\n",
            "Epoch 3/50 Step 12/25 LossL0.8285\n",
            "accuracy: 0.75\n",
            "accuracy: 0.8075\n",
            "Epoch 3/50 Step 15/25 LossL2.1283\n",
            "accuracy: 0.69\n",
            "accuracy: 0.90375\n",
            "Epoch 3/50 Step 18/25 LossL1.4102\n",
            "accuracy: 0.6\n",
            "accuracy: 0.6975\n",
            "Epoch 3/50 Step 21/25 LossL0.3243\n",
            "accuracy: 0.64\n",
            "accuracy: 0.7\n",
            "Epoch 3/50 Step 24/25 LossL2.5199\n",
            "accuracy: 0.72\n",
            "accuracy: 0.905\n",
            "accuracy: 0.68\n",
            "Epoch 4/50 Step 3/25 LossL1.3032\n",
            "accuracy: 0.66\n",
            "accuracy: 0.83375\n",
            "Epoch 4/50 Step 6/25 LossL0.8815\n",
            "accuracy: 0.7\n",
            "accuracy: 0.7925\n",
            "Epoch 4/50 Step 9/25 LossL0.4776\n",
            "accuracy: 0.68\n",
            "accuracy: 0.8475\n",
            "Epoch 4/50 Step 12/25 LossL1.3650\n",
            "accuracy: 0.68\n",
            "accuracy: 0.9\n",
            "Epoch 4/50 Step 15/25 LossL1.4106\n",
            "accuracy: 0.74\n",
            "accuracy: 0.8125\n",
            "Epoch 4/50 Step 18/25 LossL0.1991\n",
            "accuracy: 0.59\n",
            "accuracy: 0.76125\n",
            "Epoch 4/50 Step 21/25 LossL3.6946\n",
            "accuracy: 0.58\n",
            "accuracy: 0.76125\n",
            "Epoch 4/50 Step 24/25 LossL0.6457\n",
            "accuracy: 0.57\n",
            "accuracy: 0.6925\n"
          ]
        },
        {
          "output_type": "error",
          "ename": "KeyboardInterrupt",
          "evalue": "",
          "traceback": [
            "\u001b[0;31m---------------------------------------------------------------------------\u001b[0m",
            "\u001b[0;31mKeyboardInterrupt\u001b[0m                         Traceback (most recent call last)",
            "\u001b[0;32m<ipython-input-40-2f2fa3f9b7cf>\u001b[0m in \u001b[0;36m<cell line: 0>\u001b[0;34m()\u001b[0m\n\u001b[1;32m     24\u001b[0m         \u001b[0mnet\u001b[0m\u001b[0;34m.\u001b[0m\u001b[0mtrain\u001b[0m\u001b[0;34m(\u001b[0m\u001b[0;34m)\u001b[0m\u001b[0;34m\u001b[0m\u001b[0;34m\u001b[0m\u001b[0m\n\u001b[1;32m     25\u001b[0m     \u001b[0;31m#scheduler.step()\u001b[0m\u001b[0;34m\u001b[0m\u001b[0;34m\u001b[0m\u001b[0m\n\u001b[0;32m---> 26\u001b[0;31m     \u001b[0mvl\u001b[0m\u001b[0;34m(\u001b[0m\u001b[0;34m)\u001b[0m\u001b[0;34m\u001b[0m\u001b[0;34m\u001b[0m\u001b[0m\n\u001b[0m\u001b[1;32m     27\u001b[0m \u001b[0mplt\u001b[0m\u001b[0;34m.\u001b[0m\u001b[0mscatter\u001b[0m\u001b[0;34m(\u001b[0m\u001b[0mrange\u001b[0m\u001b[0;34m(\u001b[0m\u001b[0mlen\u001b[0m\u001b[0;34m(\u001b[0m\u001b[0mq\u001b[0m\u001b[0;34m)\u001b[0m\u001b[0;34m)\u001b[0m\u001b[0;34m,\u001b[0m \u001b[0mq\u001b[0m\u001b[0;34m,\u001b[0m \u001b[0ms\u001b[0m\u001b[0;34m=\u001b[0m\u001b[0;36m3\u001b[0m\u001b[0;34m,\u001b[0m \u001b[0mc\u001b[0m\u001b[0;34m=\u001b[0m\u001b[0;34m'black'\u001b[0m\u001b[0;34m)\u001b[0m\u001b[0;34m\u001b[0m\u001b[0;34m\u001b[0m\u001b[0m\n",
            "\u001b[0;32m<ipython-input-37-45f3ee179f25>\u001b[0m in \u001b[0;36mvl\u001b[0;34m()\u001b[0m\n\u001b[1;32m      7\u001b[0m       \u001b[0mb\u001b[0m \u001b[0;34m=\u001b[0m \u001b[0mtorch\u001b[0m\u001b[0;34m.\u001b[0m\u001b[0mfrom_numpy\u001b[0m\u001b[0;34m(\u001b[0m\u001b[0my_test\u001b[0m\u001b[0;34m[\u001b[0m\u001b[0mi\u001b[0m\u001b[0;34m*\u001b[0m\u001b[0mbs\u001b[0m\u001b[0;34m:\u001b[0m\u001b[0mi\u001b[0m\u001b[0;34m*\u001b[0m\u001b[0mbs\u001b[0m\u001b[0;34m+\u001b[0m\u001b[0mbs\u001b[0m\u001b[0;34m]\u001b[0m\u001b[0;34m)\u001b[0m\u001b[0;34m.\u001b[0m\u001b[0mfloat\u001b[0m\u001b[0;34m(\u001b[0m\u001b[0;34m)\u001b[0m\u001b[0;34m\u001b[0m\u001b[0;34m\u001b[0m\u001b[0m\n\u001b[1;32m      8\u001b[0m       \u001b[0ma\u001b[0m \u001b[0;34m=\u001b[0m \u001b[0ma\u001b[0m\u001b[0;34m.\u001b[0m\u001b[0mto\u001b[0m\u001b[0;34m(\u001b[0m\u001b[0mdev\u001b[0m\u001b[0;34m)\u001b[0m\u001b[0;34m\u001b[0m\u001b[0;34m\u001b[0m\u001b[0m\n\u001b[0;32m----> 9\u001b[0;31m       \u001b[0mb\u001b[0m \u001b[0;34m=\u001b[0m \u001b[0mb\u001b[0m\u001b[0;34m.\u001b[0m\u001b[0mto\u001b[0m\u001b[0;34m(\u001b[0m\u001b[0mdev\u001b[0m\u001b[0;34m)\u001b[0m\u001b[0;34m\u001b[0m\u001b[0;34m\u001b[0m\u001b[0m\n\u001b[0m\u001b[1;32m     10\u001b[0m       \u001b[0mout\u001b[0m \u001b[0;34m=\u001b[0m \u001b[0mnet\u001b[0m\u001b[0;34m(\u001b[0m\u001b[0ma\u001b[0m\u001b[0;34m)\u001b[0m\u001b[0;34m\u001b[0m\u001b[0;34m\u001b[0m\u001b[0m\n\u001b[1;32m     11\u001b[0m       \u001b[0;31m#print(out)\u001b[0m\u001b[0;34m\u001b[0m\u001b[0;34m\u001b[0m\u001b[0m\n",
            "\u001b[0;31mKeyboardInterrupt\u001b[0m: "
          ]
        }
      ],
      "source": [
        "q = []\n",
        "tot = len(x_train)\n",
        "pp = len(x_train)//bs+(len(x_train)%bs!=0)\n",
        "for i in range(ep):\n",
        "    net.train()\n",
        "    for j in range(pp):\n",
        "      a = torch.from_numpy(x_train[j*bs:j*bs+bs]).float()\n",
        "      b = torch.from_numpy(y_train[j*bs:j*bs+bs]).float()\n",
        "      a = a.to(dev)\n",
        "      b = b.to(dev)\n",
        "      out = net(a)\n",
        "      loss = crit(out, b)\n",
        "      #print(out, b)\n",
        "      opt.zero_grad()\n",
        "      loss.backward()\n",
        "      opt.step()\n",
        "      nn.utils.clip_grad_norm(net.parameters(), 1)\n",
        "      gc.collect()\n",
        "      if(j+1)%3==0:\n",
        "        q.append(loss.item())\n",
        "        print('Epoch {}/{} Step {}/{} LossL{:.4f}'.format(i+1, ep, j+1, pp, loss.item()))\n",
        "        vl()\n",
        "        vl2()\n",
        "        net.train()\n",
        "    #scheduler.step()\n",
        "    vl()\n",
        "plt.scatter(range(len(q)), q, s=3, c='black')"
      ]
    },
    {
      "cell_type": "code",
      "execution_count": null,
      "metadata": {
        "id": "jq7zxSVR1Ug0"
      },
      "outputs": [],
      "source": [
        "a = torch.randn(7)\n",
        "m = nn.Threshold(0.1, 20)\n",
        "print(a)\n",
        "print(torch.clamp(a, max=0.7))"
      ]
    }
  ],
  "metadata": {
    "accelerator": "GPU",
    "colab": {
      "gpuType": "T4",
      "provenance": []
    },
    "kernelspec": {
      "display_name": "Python 3",
      "name": "python3"
    },
    "language_info": {
      "name": "python"
    }
  },
  "nbformat": 4,
  "nbformat_minor": 0
}